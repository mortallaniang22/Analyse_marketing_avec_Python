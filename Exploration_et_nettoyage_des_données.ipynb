{
 "cells": [
  {
   "cell_type": "markdown",
   "id": "f4cfb84a-643f-439f-a774-14d199d81ea6",
   "metadata": {},
   "source": [
    "<img src=\"Lapage.png\" alt=\"Lapage\" width=250 height=250>"
   ]
  },
  {
   "cell_type": "markdown",
   "id": "3b1d2551-2d8a-4e53-8fe6-3aba3cb013ca",
   "metadata": {},
   "source": [
    "<!DOCTYPE html>\n",
    "<h1 style=\"color:Black;font-size:300%;text-align:center;\">Projet 6</h1>\n",
    "<p  style=\"color:Black;font-size:300%;text-align:center;\">Analysez les ventes d'une librairie</p>\n",
    "<p  style=\"color:Black;font-size:200%;text-align:start;\">Sommaire</p>"
   ]
  },
  {
   "cell_type": "markdown",
   "id": "038cbc46-8b9b-4f22-868c-5f779f10bc6e",
   "metadata": {},
   "source": [
    "<p style=\"color:Black;font-size:150%;text-align:start;\"><a href=\"#1\">   Introduction</a></p>\n",
    "\n",
    "<p style=\"color:Black;font-size:150%;text-align:start;\"><a href=\"#2\">I. Exploration et nettoyage des données</a></p>\n",
    "<ol> \n",
    "    <li style=\"color:Black;font-size:150%;text-align:start;\"><a href=\"#3\"> Préparation du fichier client</a></li>\n",
    "    <li style=\"color:Black;font-size:150%;text-align:start;\"><a href=\"#4\"> Préaration du fichier produit</a></li>\n",
    "    <li style=\"color:Black;font-size:150%;text-align:start;\"><a href=\"#5\"> Préparation du fichier transaction</a></li>\n",
    "</ol> \n",
    " \n",
    "<p style=\"color:Black;font-size:150%;text-align:start;\"><a href=\"#6\">II. Fusionner les DataFrames</a></p>\n",
    "<ol>\n",
    "    <li style=\"color:Black;font-size:150%;text-align:start;\"><a href=\"#7\"> Fusionner les dataframes transactions, clients et produits</a></li>\n",
    "    <li style=\"color:Black;font-size:150%;text-align:start;\"><a href=\"#8\"> Imputation des valeurs manquantes</a></li>\n",
    "    <li style=\"color:Black;font-size:150%;text-align:start;\"><a href=\"#9\"> Exporter le fichier final</a></li>\n",
    "</ol> \n",
    "<p style=\"color:Black;font-size:150%;text-align:start;\"><a href=\"#10\">Conclusion</a></p>\n"
   ]
  },
  {
   "cell_type": "markdown",
   "id": "ed76c722-e77d-421d-b01a-ca54182bbfa2",
   "metadata": {},
   "source": [
    "<h2 ><a id=\"1\">Introduction</a></h2>\n",
    "<p>\n",
    "    \n",
    "En tant que consultant Data Analyst chez Lapage, une grande librairie généraliste en ligne très réputée. Lapage était une librairie physique avec plusieurs points de vente, face au succès de certains de ses produits et l'engouement de ses clients, elle met en place un site de vente en ligne.\n",
    "\n",
    "Notre mission conssite à : \n",
    "- analyser les points forts;\n",
    "- analyser les points faibles;\n",
    "- analyser les comportements clients sur le site.\n",
    "\n",
    "Pour mener à bien la mission, nous allons prendre connaissance des différentes interpellations des collègues du service marketing afin d'apporter des réponses concrètes.\n",
    "    \n",
    "</p>"
   ]
  },
  {
   "cell_type": "code",
   "execution_count": 1,
   "id": "3975961a-27ff-47b5-8397-0c247b4ee2c9",
   "metadata": {},
   "outputs": [],
   "source": [
    "# Importation des librairies\n",
    "import pandas as pd\n",
    "import matplotlib.pyplot as plt\n",
    "import seaborn as sns\n",
    "import scipy.stats as st\n",
    "import numpy as np\n",
    "import datetime as dt"
   ]
  },
  {
   "cell_type": "markdown",
   "id": "da7177b5-8162-4681-a958-68f535a45a0d",
   "metadata": {},
   "source": [
    "Définition des fonctions pour vérifier les doublons et les valeurs nulles"
   ]
  },
  {
   "cell_type": "code",
   "execution_count": 2,
   "id": "35c1256f-1605-4aaa-9497-42eefcfd4d04",
   "metadata": {},
   "outputs": [],
   "source": [
    "#Créer uue fonction permettant de verifier les valeurs manquantes d'une variable et de nous renvoyer le cas-echéant le nombre de valeurs manquantes.\n",
    "def valeur_nulle(table,colonne):\n",
    "    if len(table[table[colonne].isnull()])==0:\n",
    "        print(\"pas de valeur nulle\")\n",
    "    else:\n",
    "        print(len(table[table[colonne].isnull()]))     "
   ]
  },
  {
   "cell_type": "code",
   "execution_count": 3,
   "id": "ff9708b5-06e1-4000-9825-798ff95b40bf",
   "metadata": {},
   "outputs": [],
   "source": [
    "#Créer uue fonction permettant de verifier les doublons d'une variable et de nous renvoyer le nombre de doublons et le nombre de valeur unique.\n",
    "def doublons(table,colonne):\n",
    "    for x in table[colonne]:\n",
    "        if not x in table[colonne]:\n",
    "             return table[colonne].duplicated().value_counts()  "
   ]
  },
  {
   "cell_type": "markdown",
   "id": "c105eb91-c566-4ed2-839e-24027955697b",
   "metadata": {},
   "source": [
    "<h2 ><a id=\"2\">I. Exploration et Nettoyage des données</a></h2>\n",
    "\n",
    "L'objectif de cette partie est de bien comprendre les données avant de les analyser.\n",
    "\n",
    "<h3 ><a id=\"3\"> 1. Préparation du fichier clients</a></h3>"
   ]
  },
  {
   "cell_type": "code",
   "execution_count": 4,
   "id": "ab48fe9e-cb9d-4651-b1cc-6e95fea10aa8",
   "metadata": {},
   "outputs": [
    {
     "data": {
      "text/html": [
       "<div>\n",
       "<style scoped>\n",
       "    .dataframe tbody tr th:only-of-type {\n",
       "        vertical-align: middle;\n",
       "    }\n",
       "\n",
       "    .dataframe tbody tr th {\n",
       "        vertical-align: top;\n",
       "    }\n",
       "\n",
       "    .dataframe thead th {\n",
       "        text-align: right;\n",
       "    }\n",
       "</style>\n",
       "<table border=\"1\" class=\"dataframe\">\n",
       "  <thead>\n",
       "    <tr style=\"text-align: right;\">\n",
       "      <th></th>\n",
       "      <th>client_id</th>\n",
       "      <th>sex</th>\n",
       "      <th>birth</th>\n",
       "    </tr>\n",
       "  </thead>\n",
       "  <tbody>\n",
       "    <tr>\n",
       "      <th>0</th>\n",
       "      <td>c_4410</td>\n",
       "      <td>f</td>\n",
       "      <td>1967</td>\n",
       "    </tr>\n",
       "    <tr>\n",
       "      <th>1</th>\n",
       "      <td>c_7839</td>\n",
       "      <td>f</td>\n",
       "      <td>1975</td>\n",
       "    </tr>\n",
       "    <tr>\n",
       "      <th>2</th>\n",
       "      <td>c_1699</td>\n",
       "      <td>f</td>\n",
       "      <td>1984</td>\n",
       "    </tr>\n",
       "    <tr>\n",
       "      <th>3</th>\n",
       "      <td>c_5961</td>\n",
       "      <td>f</td>\n",
       "      <td>1962</td>\n",
       "    </tr>\n",
       "    <tr>\n",
       "      <th>4</th>\n",
       "      <td>c_5320</td>\n",
       "      <td>m</td>\n",
       "      <td>1943</td>\n",
       "    </tr>\n",
       "  </tbody>\n",
       "</table>\n",
       "</div>"
      ],
      "text/plain": [
       "  client_id sex  birth\n",
       "0    c_4410   f   1967\n",
       "1    c_7839   f   1975\n",
       "2    c_1699   f   1984\n",
       "3    c_5961   f   1962\n",
       "4    c_5320   m   1943"
      ]
     },
     "execution_count": 4,
     "metadata": {},
     "output_type": "execute_result"
    }
   ],
   "source": [
    "clients = pd.read_csv(\"customers.csv\")\n",
    "clients.head()"
   ]
  },
  {
   "cell_type": "code",
   "execution_count": 5,
   "id": "24ba37ff-e38f-4b70-a9ee-565651827123",
   "metadata": {},
   "outputs": [
    {
     "name": "stdout",
     "output_type": "stream",
     "text": [
      "<class 'pandas.core.frame.DataFrame'>\n",
      "RangeIndex: 8623 entries, 0 to 8622\n",
      "Data columns (total 3 columns):\n",
      " #   Column     Non-Null Count  Dtype \n",
      "---  ------     --------------  ----- \n",
      " 0   client_id  8623 non-null   object\n",
      " 1   sex        8623 non-null   object\n",
      " 2   birth      8623 non-null   int64 \n",
      "dtypes: int64(1), object(2)\n",
      "memory usage: 202.2+ KB\n"
     ]
    }
   ],
   "source": [
    "clients.info()"
   ]
  },
  {
   "cell_type": "markdown",
   "id": "e64638c0-79fa-4255-a9c3-f29d091e2e91",
   "metadata": {},
   "source": [
    "Le fichier clients est un dataframe composé de trois (3) variables et de 8623 individus. Les variables sont : \n",
    "- *client_id*: est une variable de type chaine de carectére qui permet d'identifier les clients.\n",
    "- *sex*: une variable de type chaine de caractère qui permet d'identifier le genre du client.\n",
    "- *birth*: une variable de type integer qui indique l'année de naissance du client."
   ]
  },
  {
   "cell_type": "markdown",
   "id": "9478fd83-996c-4ad8-9e77-3c8932b1b0cd",
   "metadata": {},
   "source": [
    "#### Analyser la variable client_id\n",
    "\n",
    "La variable client_id est une clé primaire potentielle. Une clé primaire doit etre unique et ne doit pas avoir une valeure nulle.  \n",
    "Nous allons vérifier que la variable *client_id* réponde aux caractéristiques d'une clé primaire."
   ]
  },
  {
   "cell_type": "code",
   "execution_count": 6,
   "id": "b29e7f01-0cde-4da0-baa5-02e8cb12d78d",
   "metadata": {},
   "outputs": [
    {
     "name": "stdout",
     "output_type": "stream",
     "text": [
      "pas de valeur nulle\n"
     ]
    }
   ],
   "source": [
    "valeur_nulle(clients,\"client_id\")"
   ]
  },
  {
   "cell_type": "code",
   "execution_count": 7,
   "id": "b3a8900b-080b-4216-8cec-4a1043cd9c10",
   "metadata": {},
   "outputs": [
    {
     "data": {
      "text/plain": [
       "False    8623\n",
       "Name: client_id, dtype: int64"
      ]
     },
     "execution_count": 7,
     "metadata": {},
     "output_type": "execute_result"
    }
   ],
   "source": [
    "doublons(clients,\"client_id\")"
   ]
  },
  {
   "cell_type": "markdown",
   "id": "7461fc0d-20ea-48b7-bc9c-621558e82404",
   "metadata": {},
   "source": [
    "**La variable client_id ne comporte pas de valeur nulle et n'a pas de doublons. Donc la variable client_id est considérée comme clé primaire de la table clients.**"
   ]
  },
  {
   "cell_type": "code",
   "execution_count": 8,
   "id": "de8feb1b-392a-43ab-a052-883473728ad1",
   "metadata": {},
   "outputs": [
    {
     "data": {
      "text/html": [
       "<div>\n",
       "<style scoped>\n",
       "    .dataframe tbody tr th:only-of-type {\n",
       "        vertical-align: middle;\n",
       "    }\n",
       "\n",
       "    .dataframe tbody tr th {\n",
       "        vertical-align: top;\n",
       "    }\n",
       "\n",
       "    .dataframe thead th {\n",
       "        text-align: right;\n",
       "    }\n",
       "</style>\n",
       "<table border=\"1\" class=\"dataframe\">\n",
       "  <thead>\n",
       "    <tr style=\"text-align: right;\">\n",
       "      <th></th>\n",
       "      <th>client_id</th>\n",
       "      <th>sex</th>\n",
       "      <th>birth</th>\n",
       "    </tr>\n",
       "  </thead>\n",
       "  <tbody>\n",
       "    <tr>\n",
       "      <th>2735</th>\n",
       "      <td>ct_0</td>\n",
       "      <td>f</td>\n",
       "      <td>2001</td>\n",
       "    </tr>\n",
       "    <tr>\n",
       "      <th>8494</th>\n",
       "      <td>ct_1</td>\n",
       "      <td>m</td>\n",
       "      <td>2001</td>\n",
       "    </tr>\n",
       "  </tbody>\n",
       "</table>\n",
       "</div>"
      ],
      "text/plain": [
       "     client_id sex  birth\n",
       "2735      ct_0   f   2001\n",
       "8494      ct_1   m   2001"
      ]
     },
     "execution_count": 8,
     "metadata": {},
     "output_type": "execute_result"
    }
   ],
   "source": [
    "# Detecter les clients tests\n",
    "clients[-clients[\"client_id\"].str.startswith(\"c_\")]"
   ]
  },
  {
   "cell_type": "markdown",
   "id": "9f322cfc-03d1-4b68-8b1b-08f39b0752ab",
   "metadata": {},
   "source": [
    "On constate qu'il ya des clients dont leurs identifiants sont ct_0 et ct_1 qui sont differents du format d'identification des clients. Ces identifiants sont utilisés dans le cadre d'un test et sont donc considérés comme des clients tests. Nous allons supprimé les clients tests pour la suite de notre analyse.   "
   ]
  },
  {
   "cell_type": "code",
   "execution_count": 9,
   "id": "316a5662-71bc-49c3-b40b-f7029d9bb07e",
   "metadata": {},
   "outputs": [
    {
     "data": {
      "text/html": [
       "<div>\n",
       "<style scoped>\n",
       "    .dataframe tbody tr th:only-of-type {\n",
       "        vertical-align: middle;\n",
       "    }\n",
       "\n",
       "    .dataframe tbody tr th {\n",
       "        vertical-align: top;\n",
       "    }\n",
       "\n",
       "    .dataframe thead th {\n",
       "        text-align: right;\n",
       "    }\n",
       "</style>\n",
       "<table border=\"1\" class=\"dataframe\">\n",
       "  <thead>\n",
       "    <tr style=\"text-align: right;\">\n",
       "      <th></th>\n",
       "      <th>client_id</th>\n",
       "      <th>sex</th>\n",
       "      <th>birth</th>\n",
       "    </tr>\n",
       "  </thead>\n",
       "  <tbody>\n",
       "    <tr>\n",
       "      <th>0</th>\n",
       "      <td>c_4410</td>\n",
       "      <td>f</td>\n",
       "      <td>1967</td>\n",
       "    </tr>\n",
       "    <tr>\n",
       "      <th>1</th>\n",
       "      <td>c_7839</td>\n",
       "      <td>f</td>\n",
       "      <td>1975</td>\n",
       "    </tr>\n",
       "    <tr>\n",
       "      <th>2</th>\n",
       "      <td>c_1699</td>\n",
       "      <td>f</td>\n",
       "      <td>1984</td>\n",
       "    </tr>\n",
       "    <tr>\n",
       "      <th>3</th>\n",
       "      <td>c_5961</td>\n",
       "      <td>f</td>\n",
       "      <td>1962</td>\n",
       "    </tr>\n",
       "    <tr>\n",
       "      <th>4</th>\n",
       "      <td>c_5320</td>\n",
       "      <td>m</td>\n",
       "      <td>1943</td>\n",
       "    </tr>\n",
       "  </tbody>\n",
       "</table>\n",
       "</div>"
      ],
      "text/plain": [
       "  client_id sex  birth\n",
       "0    c_4410   f   1967\n",
       "1    c_7839   f   1975\n",
       "2    c_1699   f   1984\n",
       "3    c_5961   f   1962\n",
       "4    c_5320   m   1943"
      ]
     },
     "execution_count": 9,
     "metadata": {},
     "output_type": "execute_result"
    }
   ],
   "source": [
    "clients.drop([2735,8494], axis = 0, inplace=True)\n",
    "clients.head()"
   ]
  },
  {
   "cell_type": "markdown",
   "id": "97d3490d-a09a-4d76-be0c-d35fbd32a557",
   "metadata": {},
   "source": [
    "#### Analyser la variable sexe  "
   ]
  },
  {
   "cell_type": "code",
   "execution_count": 40,
   "id": "247840d9-2164-4206-b74e-2aae2969ef28",
   "metadata": {},
   "outputs": [
    {
     "data": {
      "image/png": "[encoded data removed]",
      "text/plain": [
       "<Figure size 864x576 with 1 Axes>"
      ]
     },
     "metadata": {},
     "output_type": "display_data"
    }
   ],
   "source": [
    "plt.figure(figsize =(12,8))\n",
    "label = [\"Femme\",\"Homme\"]\n",
    "color = [\"gold\",\"turquoise\"]\n",
    "clients[\"sex\"].value_counts().plot(kind=\"pie\",autopct = \"%1.2f%%\", labels=label,colors=color)\n",
    "plt.title(\"Répartition des clients par sexe\")\n",
    "plt.show()"
   ]
  },
  {
   "cell_type": "markdown",
   "id": "10df7aba-3ab6-44d3-805c-91139fcea3c4",
   "metadata": {},
   "source": [
    "- **La variable sexe est composée de deux categories homme et femme.** \n",
    "- **Les femmes represnetent 52,08% contre 47,92% d'hommes.**"
   ]
  },
  {
   "cell_type": "markdown",
   "id": "42f3740e-0151-40b6-80ef-134745bb49bb",
   "metadata": {},
   "source": [
    "#### Analyser la variable birth\n",
    "La variable birth indique l'année de naissance des clients."
   ]
  },
  {
   "cell_type": "code",
   "execution_count": 11,
   "id": "7a279c19-4c91-4795-8734-aff3f713b7b3",
   "metadata": {},
   "outputs": [
    {
     "data": {
      "image/png": "[encoded data removed]",
      "text/plain": [
       "<Figure size 720x432 with 1 Axes>"
      ]
     },
     "metadata": {
      "needs_background": "light"
     },
     "output_type": "display_data"
    },
    {
     "name": "stdout",
     "output_type": "stream",
     "text": [
      "Année de naissance minimun : 1929\n",
      "Année de naissance maximun: 2004\n"
     ]
    }
   ],
   "source": [
    "plt.figure(figsize =(10,6))\n",
    "sns.histplot(clients[\"birth\"])\n",
    "plt.title(\"Répartition des années de naissance\")\n",
    "plt.show()\n",
    "\n",
    "print(\"Année de naissance minimun :\",clients.birth.min())\n",
    "print(\"Année de naissance maximun:\",clients.birth.max())"
   ]
  },
  {
   "cell_type": "markdown",
   "id": "a11b677b-9b76-4f9e-b981-279f678b9af6",
   "metadata": {},
   "source": [
    "- **La variable birth contient 76 année de naissance comprise entre 1929 et 2004.**\n",
    "- **Les clients nés en 2004 sont plus nombreux (700).**"
   ]
  },
  {
   "cell_type": "code",
   "execution_count": 12,
   "id": "13a95458-feaa-4280-a3b0-5efa6d3b9309",
   "metadata": {},
   "outputs": [
    {
     "data": {
      "text/html": [
       "<div>\n",
       "<style scoped>\n",
       "    .dataframe tbody tr th:only-of-type {\n",
       "        vertical-align: middle;\n",
       "    }\n",
       "\n",
       "    .dataframe tbody tr th {\n",
       "        vertical-align: top;\n",
       "    }\n",
       "\n",
       "    .dataframe thead th {\n",
       "        text-align: right;\n",
       "    }\n",
       "</style>\n",
       "<table border=\"1\" class=\"dataframe\">\n",
       "  <thead>\n",
       "    <tr style=\"text-align: right;\">\n",
       "      <th></th>\n",
       "      <th>client_id</th>\n",
       "      <th>sex</th>\n",
       "      <th>birth</th>\n",
       "      <th>age_client</th>\n",
       "    </tr>\n",
       "  </thead>\n",
       "  <tbody>\n",
       "    <tr>\n",
       "      <th>0</th>\n",
       "      <td>c_4410</td>\n",
       "      <td>f</td>\n",
       "      <td>1967</td>\n",
       "      <td>55</td>\n",
       "    </tr>\n",
       "    <tr>\n",
       "      <th>1</th>\n",
       "      <td>c_7839</td>\n",
       "      <td>f</td>\n",
       "      <td>1975</td>\n",
       "      <td>47</td>\n",
       "    </tr>\n",
       "    <tr>\n",
       "      <th>2</th>\n",
       "      <td>c_1699</td>\n",
       "      <td>f</td>\n",
       "      <td>1984</td>\n",
       "      <td>38</td>\n",
       "    </tr>\n",
       "    <tr>\n",
       "      <th>3</th>\n",
       "      <td>c_5961</td>\n",
       "      <td>f</td>\n",
       "      <td>1962</td>\n",
       "      <td>60</td>\n",
       "    </tr>\n",
       "    <tr>\n",
       "      <th>4</th>\n",
       "      <td>c_5320</td>\n",
       "      <td>m</td>\n",
       "      <td>1943</td>\n",
       "      <td>79</td>\n",
       "    </tr>\n",
       "  </tbody>\n",
       "</table>\n",
       "</div>"
      ],
      "text/plain": [
       "  client_id sex  birth  age_client\n",
       "0    c_4410   f   1967          55\n",
       "1    c_7839   f   1975          47\n",
       "2    c_1699   f   1984          38\n",
       "3    c_5961   f   1962          60\n",
       "4    c_5320   m   1943          79"
      ]
     },
     "metadata": {},
     "output_type": "display_data"
    },
    {
     "data": {
      "image/png": "[encoded data removed]",
      "text/plain": [
       "<Figure size 720x432 with 1 Axes>"
      ]
     },
     "metadata": {
      "needs_background": "light"
     },
     "output_type": "display_data"
    },
    {
     "name": "stdout",
     "output_type": "stream",
     "text": [
      "L'age min est de  18 ans\n",
      "L'age max est de  93 ans\n"
     ]
    }
   ],
   "source": [
    "# On va ajouter au fichier clients une colonnes age qui determine l'age des clients.\n",
    "clients[\"age_client\"]= dt.date.today().year - clients[\"birth\"]\n",
    "display(clients.head())\n",
    "\n",
    "#Representation graphique des ages\n",
    "plt.figure(figsize =(10,6))\n",
    "sns.histplot(clients[\"age_client\"])\n",
    "plt.title(\"Répartition de l'age des clients\")\n",
    "plt.show()\n",
    "\n",
    "print(\"L'age min est de \",clients[\"age_client\"].min(),\"ans\")\n",
    "print(\"L'age max est de \",clients[\"age_client\"].max(),\"ans\")\n"
   ]
  },
  {
   "cell_type": "markdown",
   "id": "209cde14-3493-4148-8b71-bf6944805b15",
   "metadata": {},
   "source": [
    "- **L'age des clients est compris entre 18 ans et 93 ans.**\n",
    "- **Les clients agés de 18 ans sont plus représentatifs.**"
   ]
  },
  {
   "cell_type": "code",
   "execution_count": 13,
   "id": "63664893-8ec0-4326-be29-5de8169cc5d2",
   "metadata": {},
   "outputs": [
    {
     "data": {
      "text/html": [
       "<div>\n",
       "<style scoped>\n",
       "    .dataframe tbody tr th:only-of-type {\n",
       "        vertical-align: middle;\n",
       "    }\n",
       "\n",
       "    .dataframe tbody tr th {\n",
       "        vertical-align: top;\n",
       "    }\n",
       "\n",
       "    .dataframe thead th {\n",
       "        text-align: right;\n",
       "    }\n",
       "</style>\n",
       "<table border=\"1\" class=\"dataframe\">\n",
       "  <thead>\n",
       "    <tr style=\"text-align: right;\">\n",
       "      <th></th>\n",
       "      <th>client_id</th>\n",
       "      <th>sex</th>\n",
       "      <th>birth</th>\n",
       "      <th>age_client</th>\n",
       "      <th>tranche_d'age</th>\n",
       "    </tr>\n",
       "  </thead>\n",
       "  <tbody>\n",
       "    <tr>\n",
       "      <th>0</th>\n",
       "      <td>c_4410</td>\n",
       "      <td>f</td>\n",
       "      <td>1967</td>\n",
       "      <td>55</td>\n",
       "      <td>46 - 55ans</td>\n",
       "    </tr>\n",
       "    <tr>\n",
       "      <th>1</th>\n",
       "      <td>c_7839</td>\n",
       "      <td>f</td>\n",
       "      <td>1975</td>\n",
       "      <td>47</td>\n",
       "      <td>46 - 55ans</td>\n",
       "    </tr>\n",
       "    <tr>\n",
       "      <th>2</th>\n",
       "      <td>c_1699</td>\n",
       "      <td>f</td>\n",
       "      <td>1984</td>\n",
       "      <td>38</td>\n",
       "      <td>36 - 45ans</td>\n",
       "    </tr>\n",
       "    <tr>\n",
       "      <th>3</th>\n",
       "      <td>c_5961</td>\n",
       "      <td>f</td>\n",
       "      <td>1962</td>\n",
       "      <td>60</td>\n",
       "      <td>56 - 65ans</td>\n",
       "    </tr>\n",
       "    <tr>\n",
       "      <th>4</th>\n",
       "      <td>c_5320</td>\n",
       "      <td>m</td>\n",
       "      <td>1943</td>\n",
       "      <td>79</td>\n",
       "      <td>76 - plus</td>\n",
       "    </tr>\n",
       "  </tbody>\n",
       "</table>\n",
       "</div>"
      ],
      "text/plain": [
       "  client_id sex  birth  age_client tranche_d'age\n",
       "0    c_4410   f   1967          55    46 - 55ans\n",
       "1    c_7839   f   1975          47    46 - 55ans\n",
       "2    c_1699   f   1984          38    36 - 45ans\n",
       "3    c_5961   f   1962          60    56 - 65ans\n",
       "4    c_5320   m   1943          79     76 - plus"
      ]
     },
     "execution_count": 13,
     "metadata": {},
     "output_type": "execute_result"
    }
   ],
   "source": [
    "# Grouper l'age de client en tranche d'age\n",
    "labels = [\"15 - 25ans\",\"26 - 35ans\",\"36 - 45ans\",\"46 - 55ans\",\"56 - 65ans\",\"66 - 75ans\",\"76 - plus\"]\n",
    "clients[\"tranche_d'age\"]= pd.cut(clients[\"age_client\"], bins=[15,25,35,45,55,65,75,85], labels=labels)\n",
    "clients.head()"
   ]
  },
  {
   "cell_type": "markdown",
   "id": "1bd5c4d8-755a-4776-9661-c5f88d8f0e72",
   "metadata": {},
   "source": [
    "<h3 ><a id=\"4\"> 2. Préparation du fichier produit</a></h3>"
   ]
  },
  {
   "cell_type": "code",
   "execution_count": 14,
   "id": "44cb9c49-4039-4fa3-93cc-9c1b86ec3d5a",
   "metadata": {},
   "outputs": [
    {
     "data": {
      "text/html": [
       "<div>\n",
       "<style scoped>\n",
       "    .dataframe tbody tr th:only-of-type {\n",
       "        vertical-align: middle;\n",
       "    }\n",
       "\n",
       "    .dataframe tbody tr th {\n",
       "        vertical-align: top;\n",
       "    }\n",
       "\n",
       "    .dataframe thead th {\n",
       "        text-align: right;\n",
       "    }\n",
       "</style>\n",
       "<table border=\"1\" class=\"dataframe\">\n",
       "  <thead>\n",
       "    <tr style=\"text-align: right;\">\n",
       "      <th></th>\n",
       "      <th>id_prod</th>\n",
       "      <th>price</th>\n",
       "      <th>categ</th>\n",
       "    </tr>\n",
       "  </thead>\n",
       "  <tbody>\n",
       "    <tr>\n",
       "      <th>0</th>\n",
       "      <td>0_1421</td>\n",
       "      <td>19.99</td>\n",
       "      <td>0</td>\n",
       "    </tr>\n",
       "    <tr>\n",
       "      <th>1</th>\n",
       "      <td>0_1368</td>\n",
       "      <td>5.13</td>\n",
       "      <td>0</td>\n",
       "    </tr>\n",
       "    <tr>\n",
       "      <th>2</th>\n",
       "      <td>0_731</td>\n",
       "      <td>17.99</td>\n",
       "      <td>0</td>\n",
       "    </tr>\n",
       "    <tr>\n",
       "      <th>3</th>\n",
       "      <td>1_587</td>\n",
       "      <td>4.99</td>\n",
       "      <td>1</td>\n",
       "    </tr>\n",
       "    <tr>\n",
       "      <th>4</th>\n",
       "      <td>0_1507</td>\n",
       "      <td>3.99</td>\n",
       "      <td>0</td>\n",
       "    </tr>\n",
       "  </tbody>\n",
       "</table>\n",
       "</div>"
      ],
      "text/plain": [
       "  id_prod  price  categ\n",
       "0  0_1421  19.99      0\n",
       "1  0_1368   5.13      0\n",
       "2   0_731  17.99      0\n",
       "3   1_587   4.99      1\n",
       "4  0_1507   3.99      0"
      ]
     },
     "execution_count": 14,
     "metadata": {},
     "output_type": "execute_result"
    }
   ],
   "source": [
    "produits = pd.read_csv(\"products.csv\")\n",
    "produits.head()"
   ]
  },
  {
   "cell_type": "code",
   "execution_count": 15,
   "id": "adda1804-1fe0-497c-a482-967dc5d409e5",
   "metadata": {},
   "outputs": [
    {
     "name": "stdout",
     "output_type": "stream",
     "text": [
      "<class 'pandas.core.frame.DataFrame'>\n",
      "RangeIndex: 3287 entries, 0 to 3286\n",
      "Data columns (total 3 columns):\n",
      " #   Column   Non-Null Count  Dtype  \n",
      "---  ------   --------------  -----  \n",
      " 0   id_prod  3287 non-null   object \n",
      " 1   price    3287 non-null   float64\n",
      " 2   categ    3287 non-null   int64  \n",
      "dtypes: float64(1), int64(1), object(1)\n",
      "memory usage: 77.2+ KB\n"
     ]
    }
   ],
   "source": [
    "produits.info()"
   ]
  },
  {
   "cell_type": "markdown",
   "id": "e908abf4-4b81-4c74-8d56-79645327f576",
   "metadata": {},
   "source": [
    "**Analyser le fichier products**\n",
    "\n",
    "Le fichier products est un dataframe composé de trois (3) variables et de 3286 individus. Les variables sont : \n",
    "- *id_prod*: est une variable de type chaine de carectére qui permet d'identifier les differents produits. Elle ne doit pas être nulle, ne doit pas avoir de doublon et doit être unique.\n",
    "- *price*: une variable de type float qui determine les prix des produits.\n",
    "- *categ*: une variable de type integer qui indique la catégorie qu'appartiennent les produits. On distingue 3 catégories de produits à savoir 0,1 et 2."
   ]
  },
  {
   "cell_type": "markdown",
   "id": "2f2507b6-7102-4e11-8fa1-dcf85cbc0adb",
   "metadata": {},
   "source": [
    "#### Analyser la variable id_prod\n",
    "\n",
    "La variable id_prod permett d'identifier le produit de facon unique. Il est concideré comme une clé candidate.  \n",
    "Nous allons verifier les condition d'une clé primaire."
   ]
  },
  {
   "cell_type": "code",
   "execution_count": 16,
   "id": "09bd8445-6b25-4236-810f-fef00b98e887",
   "metadata": {},
   "outputs": [
    {
     "data": {
      "text/plain": [
       "False    3287\n",
       "Name: id_prod, dtype: int64"
      ]
     },
     "execution_count": 16,
     "metadata": {},
     "output_type": "execute_result"
    }
   ],
   "source": [
    "#Vérifier l'existance de doublon de la variable id_prod.\n",
    "doublons(produits,\"id_prod\")"
   ]
  },
  {
   "cell_type": "code",
   "execution_count": 17,
   "id": "5cd8c387-ecfb-4988-853c-7f83f891224e",
   "metadata": {},
   "outputs": [
    {
     "name": "stdout",
     "output_type": "stream",
     "text": [
      "pas de valeur nulle\n"
     ]
    }
   ],
   "source": [
    "valeur_nulle(produits,\"id_prod\")"
   ]
  },
  {
   "cell_type": "markdown",
   "id": "abe99106-4aa2-4b33-b9f8-4a62d079aee0",
   "metadata": {},
   "source": [
    "**La variable *id_prod* n'a pas de doublon donc elle est unique, en plus elle ne comporte pas de valeur nulle. Donc elle est considerée comme la clé primaire du fichier products.**"
   ]
  },
  {
   "cell_type": "markdown",
   "id": "d63b622c-525c-4fd6-b2d3-fbb1d34f89db",
   "metadata": {},
   "source": [
    "#### Analyser la variable Prix\n",
    "\n",
    "La variable prix indique le prix des produits "
   ]
  },
  {
   "cell_type": "code",
   "execution_count": 18,
   "id": "9e518c85-9af6-4b48-9f3f-f3532a705cf4",
   "metadata": {},
   "outputs": [
    {
     "data": {
      "image/png": "[encoded data removed]",
      "text/plain": [
       "<Figure size 720x432 with 1 Axes>"
      ]
     },
     "metadata": {
      "needs_background": "light"
     },
     "output_type": "display_data"
    }
   ],
   "source": [
    "plt.figure(figsize =(10,6))\n",
    "sns.histplot(produits[\"price\"])\n",
    "plt.show()"
   ]
  },
  {
   "cell_type": "code",
   "execution_count": 19,
   "id": "c3840fbc-0f41-47b3-8996-99fc10976331",
   "metadata": {},
   "outputs": [
    {
     "data": {
      "text/plain": [
       "count    3287.000000\n",
       "mean       21.856641\n",
       "std        29.847908\n",
       "min        -1.000000\n",
       "25%         6.990000\n",
       "50%        13.060000\n",
       "75%        22.990000\n",
       "max       300.000000\n",
       "Name: price, dtype: float64"
      ]
     },
     "execution_count": 19,
     "metadata": {},
     "output_type": "execute_result"
    }
   ],
   "source": [
    "produits.describe()[\"price\"]"
   ]
  },
  {
   "cell_type": "markdown",
   "id": "02a71df0-9bd1-4796-852a-593e0d742201",
   "metadata": {},
   "source": [
    "- Le prix maximum est de 300.\n",
    "- La moyenne des prix est de 21,85 qui trop éloignée du prix max \n",
    "- L'ecart type du prix est 29,84. Ce qui veux dire qu'il existe probablement des outliers.\n",
    "- Le prix minimum est de -1 qui est negatif ce qui n'est pas normal. Nous allons identifier le produit correspondant."
   ]
  },
  {
   "cell_type": "code",
   "execution_count": 20,
   "id": "b95340b2-3063-4adb-9d5c-7f681921c3e4",
   "metadata": {},
   "outputs": [
    {
     "data": {
      "text/html": [
       "<div>\n",
       "<style scoped>\n",
       "    .dataframe tbody tr th:only-of-type {\n",
       "        vertical-align: middle;\n",
       "    }\n",
       "\n",
       "    .dataframe tbody tr th {\n",
       "        vertical-align: top;\n",
       "    }\n",
       "\n",
       "    .dataframe thead th {\n",
       "        text-align: right;\n",
       "    }\n",
       "</style>\n",
       "<table border=\"1\" class=\"dataframe\">\n",
       "  <thead>\n",
       "    <tr style=\"text-align: right;\">\n",
       "      <th></th>\n",
       "      <th>id_prod</th>\n",
       "      <th>price</th>\n",
       "      <th>categ</th>\n",
       "    </tr>\n",
       "  </thead>\n",
       "  <tbody>\n",
       "    <tr>\n",
       "      <th>731</th>\n",
       "      <td>T_0</td>\n",
       "      <td>-1.0</td>\n",
       "      <td>0</td>\n",
       "    </tr>\n",
       "  </tbody>\n",
       "</table>\n",
       "</div>"
      ],
      "text/plain": [
       "    id_prod  price  categ\n",
       "731     T_0   -1.0      0"
      ]
     },
     "execution_count": 20,
     "metadata": {},
     "output_type": "execute_result"
    }
   ],
   "source": [
    "#Identification des produits dont le prix est inferieur ou egal à zero\n",
    "produits.loc[produits[\"price\"]<=0]"
   ]
  },
  {
   "cell_type": "markdown",
   "id": "b9bee663-6ad1-4acc-8525-f3b3769eb90b",
   "metadata": {},
   "source": [
    "**Le produit dont le prix est négatif est identifié par T_0 qui corespont a un produit test, nous allons supprimer ce produit.**"
   ]
  },
  {
   "cell_type": "code",
   "execution_count": 21,
   "id": "fc94861a-b75b-42bf-a558-aced0400bc90",
   "metadata": {},
   "outputs": [
    {
     "data": {
      "text/html": [
       "<div>\n",
       "<style scoped>\n",
       "    .dataframe tbody tr th:only-of-type {\n",
       "        vertical-align: middle;\n",
       "    }\n",
       "\n",
       "    .dataframe tbody tr th {\n",
       "        vertical-align: top;\n",
       "    }\n",
       "\n",
       "    .dataframe thead th {\n",
       "        text-align: right;\n",
       "    }\n",
       "</style>\n",
       "<table border=\"1\" class=\"dataframe\">\n",
       "  <thead>\n",
       "    <tr style=\"text-align: right;\">\n",
       "      <th></th>\n",
       "      <th>id_prod</th>\n",
       "      <th>price</th>\n",
       "      <th>categ</th>\n",
       "    </tr>\n",
       "  </thead>\n",
       "  <tbody>\n",
       "    <tr>\n",
       "      <th>0</th>\n",
       "      <td>0_1421</td>\n",
       "      <td>19.99</td>\n",
       "      <td>0</td>\n",
       "    </tr>\n",
       "    <tr>\n",
       "      <th>1</th>\n",
       "      <td>0_1368</td>\n",
       "      <td>5.13</td>\n",
       "      <td>0</td>\n",
       "    </tr>\n",
       "    <tr>\n",
       "      <th>2</th>\n",
       "      <td>0_731</td>\n",
       "      <td>17.99</td>\n",
       "      <td>0</td>\n",
       "    </tr>\n",
       "    <tr>\n",
       "      <th>3</th>\n",
       "      <td>1_587</td>\n",
       "      <td>4.99</td>\n",
       "      <td>1</td>\n",
       "    </tr>\n",
       "    <tr>\n",
       "      <th>4</th>\n",
       "      <td>0_1507</td>\n",
       "      <td>3.99</td>\n",
       "      <td>0</td>\n",
       "    </tr>\n",
       "  </tbody>\n",
       "</table>\n",
       "</div>"
      ],
      "text/plain": [
       "  id_prod  price  categ\n",
       "0  0_1421  19.99      0\n",
       "1  0_1368   5.13      0\n",
       "2   0_731  17.99      0\n",
       "3   1_587   4.99      1\n",
       "4  0_1507   3.99      0"
      ]
     },
     "execution_count": 21,
     "metadata": {},
     "output_type": "execute_result"
    }
   ],
   "source": [
    "# Supprimer le produit test\n",
    "produits.drop(produits.loc[produits[\"id_prod\"] == \"T_0\"].index, inplace = True)\n",
    "produits.head()"
   ]
  },
  {
   "cell_type": "markdown",
   "id": "43b9f401-b5eb-4c6f-bf46-6db82e4aab97",
   "metadata": {},
   "source": [
    "**Analyser la variable price afin de detecter les outliers et les lister**  *\n"
   ]
  },
  {
   "cell_type": "code",
   "execution_count": 22,
   "id": "5707ba08-9170-47af-9d0a-617f2d240f24",
   "metadata": {},
   "outputs": [
    {
     "name": "stdout",
     "output_type": "stream",
     "text": [
      "Les outliers sont au nombre de  157\n",
      "Le seuil des prix normaux est de  81.56\n"
     ]
    }
   ],
   "source": [
    "# Definir une limite \n",
    "seuil = 2\n",
    "# Calculer la moyenne et l'ecart type de la variable prix\n",
    "moyenne_prix = produits[\"price\"].mean()\n",
    "ecart_type_prix = produits[\"price\"].std()\n",
    "#Faire une boucle for pour lister les outliers et afficher le nombre d'outliers\n",
    "outliers = []\n",
    "for i in produits[\"price\"]:\n",
    "    score_z = (i-moyenne_prix )/ecart_type_prix\n",
    "    if score_z > seuil:\n",
    "        outliers.append(i)\n",
    "print(\"Les outliers sont au nombre de \", len(outliers))\n",
    "\n",
    "seuil_prix_normal = (ecart_type_prix*2)+moyenne_prix\n",
    "print(\"Le seuil des prix normaux est de \", round(seuil_prix_normal,2))"
   ]
  },
  {
   "cell_type": "code",
   "execution_count": 23,
   "id": "c6b6960f-739e-417c-8cb3-57f9b4dce222",
   "metadata": {},
   "outputs": [
    {
     "data": {
      "image/png": "[encoded data removed]",
      "text/plain": [
       "<Figure size 720x504 with 1 Axes>"
      ]
     },
     "metadata": {
      "needs_background": "light"
     },
     "output_type": "display_data"
    }
   ],
   "source": [
    "#Représenter les outliers par le graphique nuages de points\n",
    "outliers = produits.loc[produits[\"price\"]>round(seuil_prix_normal,2)]\n",
    "normal = produits.loc[produits[\"price\"]<round(seuil_prix_normal,2)]\n",
    "plt.figure(figsize = (10,7))\n",
    "plt.scatter(normal['price'].index,normal['price'].values, c=\"gold\", label= \"prix_normal\")\n",
    "plt.scatter(outliers['price'].index, outliers['price'].values, c=\"coral\", label = \"outliers\") \n",
    "plt.title(\"Representation graphique des outliers\")\n",
    "plt.legend()\n",
    "plt.show()"
   ]
  },
  {
   "cell_type": "markdown",
   "id": "333c7a1c-1cb0-4e73-8c09-544f2e6f8359",
   "metadata": {},
   "source": [
    "#### Analyser la variable categ\n",
    "\n",
    "La variable categorie indique les differentes catégories de produit."
   ]
  },
  {
   "cell_type": "code",
   "execution_count": 24,
   "id": "2af151de-b176-4f88-98a0-61db64c24aa0",
   "metadata": {},
   "outputs": [
    {
     "data": {
      "image/png": "[encoded data removed]",
      "text/plain": [
       "<Figure size 720x432 with 1 Axes>"
      ]
     },
     "metadata": {
      "needs_background": "light"
     },
     "output_type": "display_data"
    }
   ],
   "source": [
    "plt.figure(figsize =(10,6))\n",
    "#sns.histplot(produits[\"categ\"])\n",
    "produits[\"categ\"].value_counts().plot(kind=\"bar\")\n",
    "plt.ylabel(\"counts\")\n",
    "plt.xlabel(\"categ\")\n",
    "plt.show()"
   ]
  },
  {
   "cell_type": "markdown",
   "id": "1d917343-8e07-447b-a261-ccc5b61ff231",
   "metadata": {},
   "source": [
    "- **La variable categ comporte trois types de categories de produit 0, 1 et 2.**\n",
    "- **Les produits de categories 0 sont les plus nombreux.**"
   ]
  },
  {
   "cell_type": "markdown",
   "id": "cc65a5bf-db00-4ac1-aa13-3eae9bad9ce5",
   "metadata": {},
   "source": [
    "<h3 ><a id=\"5\">3. Préparation du fichier transactions</a></h3>"
   ]
  },
  {
   "cell_type": "code",
   "execution_count": 25,
   "id": "21a3f369-b3ea-4533-b57b-c6cf13fcd114",
   "metadata": {},
   "outputs": [
    {
     "data": {
      "text/html": [
       "<div>\n",
       "<style scoped>\n",
       "    .dataframe tbody tr th:only-of-type {\n",
       "        vertical-align: middle;\n",
       "    }\n",
       "\n",
       "    .dataframe tbody tr th {\n",
       "        vertical-align: top;\n",
       "    }\n",
       "\n",
       "    .dataframe thead th {\n",
       "        text-align: right;\n",
       "    }\n",
       "</style>\n",
       "<table border=\"1\" class=\"dataframe\">\n",
       "  <thead>\n",
       "    <tr style=\"text-align: right;\">\n",
       "      <th></th>\n",
       "      <th>id_prod</th>\n",
       "      <th>date</th>\n",
       "      <th>session_id</th>\n",
       "      <th>client_id</th>\n",
       "    </tr>\n",
       "  </thead>\n",
       "  <tbody>\n",
       "    <tr>\n",
       "      <th>0</th>\n",
       "      <td>0_1518</td>\n",
       "      <td>2022-05-20 13:21:29.043970</td>\n",
       "      <td>s_211425</td>\n",
       "      <td>c_103</td>\n",
       "    </tr>\n",
       "    <tr>\n",
       "      <th>1</th>\n",
       "      <td>1_251</td>\n",
       "      <td>2022-02-02 07:55:19.149409</td>\n",
       "      <td>s_158752</td>\n",
       "      <td>c_8534</td>\n",
       "    </tr>\n",
       "    <tr>\n",
       "      <th>2</th>\n",
       "      <td>0_1277</td>\n",
       "      <td>2022-06-18 15:44:33.155329</td>\n",
       "      <td>s_225667</td>\n",
       "      <td>c_6714</td>\n",
       "    </tr>\n",
       "    <tr>\n",
       "      <th>3</th>\n",
       "      <td>2_209</td>\n",
       "      <td>2021-06-24 04:19:29.835891</td>\n",
       "      <td>s_52962</td>\n",
       "      <td>c_6941</td>\n",
       "    </tr>\n",
       "    <tr>\n",
       "      <th>4</th>\n",
       "      <td>0_1509</td>\n",
       "      <td>2023-01-11 08:22:08.194479</td>\n",
       "      <td>s_325227</td>\n",
       "      <td>c_4232</td>\n",
       "    </tr>\n",
       "  </tbody>\n",
       "</table>\n",
       "</div>"
      ],
      "text/plain": [
       "  id_prod                        date session_id client_id\n",
       "0  0_1518  2022-05-20 13:21:29.043970   s_211425     c_103\n",
       "1   1_251  2022-02-02 07:55:19.149409   s_158752    c_8534\n",
       "2  0_1277  2022-06-18 15:44:33.155329   s_225667    c_6714\n",
       "3   2_209  2021-06-24 04:19:29.835891    s_52962    c_6941\n",
       "4  0_1509  2023-01-11 08:22:08.194479   s_325227    c_4232"
      ]
     },
     "execution_count": 25,
     "metadata": {},
     "output_type": "execute_result"
    }
   ],
   "source": [
    "ventes = pd.read_csv(\"transactions.csv\")\n",
    "ventes.head()"
   ]
  },
  {
   "cell_type": "code",
   "execution_count": 26,
   "id": "bdec4791-994d-4f90-bf0e-cbf693cc6074",
   "metadata": {},
   "outputs": [
    {
     "name": "stdout",
     "output_type": "stream",
     "text": [
      "<class 'pandas.core.frame.DataFrame'>\n",
      "RangeIndex: 679532 entries, 0 to 679531\n",
      "Data columns (total 4 columns):\n",
      " #   Column      Non-Null Count   Dtype \n",
      "---  ------      --------------   ----- \n",
      " 0   id_prod     679532 non-null  object\n",
      " 1   date        679532 non-null  object\n",
      " 2   session_id  679532 non-null  object\n",
      " 3   client_id   679532 non-null  object\n",
      "dtypes: object(4)\n",
      "memory usage: 20.7+ MB\n"
     ]
    }
   ],
   "source": [
    "ventes.info()"
   ]
  },
  {
   "cell_type": "markdown",
   "id": "262cf016-80c6-44b1-b8cc-699ef64a00e8",
   "metadata": {},
   "source": [
    "**Analyser le fichier transaction**\n",
    "\n",
    "Le fichier transaction est un dataframe composé de trois (4) variables et de 679531 individus. Les variables sont : \n",
    "- *id_prod*: une clé étrangère permet de faire la liaison avec la table products.\n",
    "- *client_id*: une clé étrangère permet de faire la liaison avec la table customers.\n",
    "- *session_id*: une variable de type chaine de caractère qui identifie l'accès d'un client sur le site.\n",
    "- *date*: une variable de type chaine de caractère qui indique la date et l'heure à laquelle le client est connecté sur le site.  \n",
    "Nous allons identifié les produits identifier par T_0 et les ecraser.\n"
   ]
  },
  {
   "cell_type": "code",
   "execution_count": 27,
   "id": "98387206-c2c1-4926-97c0-7cacd427a2f5",
   "metadata": {},
   "outputs": [
    {
     "data": {
      "text/html": [
       "<div>\n",
       "<style scoped>\n",
       "    .dataframe tbody tr th:only-of-type {\n",
       "        vertical-align: middle;\n",
       "    }\n",
       "\n",
       "    .dataframe tbody tr th {\n",
       "        vertical-align: top;\n",
       "    }\n",
       "\n",
       "    .dataframe thead th {\n",
       "        text-align: right;\n",
       "    }\n",
       "</style>\n",
       "<table border=\"1\" class=\"dataframe\">\n",
       "  <thead>\n",
       "    <tr style=\"text-align: right;\">\n",
       "      <th></th>\n",
       "      <th>id_prod</th>\n",
       "      <th>date</th>\n",
       "      <th>session_id</th>\n",
       "      <th>client_id</th>\n",
       "    </tr>\n",
       "  </thead>\n",
       "  <tbody>\n",
       "    <tr>\n",
       "      <th>3019</th>\n",
       "      <td>T_0</td>\n",
       "      <td>test_2021-03-01 02:30:02.237419</td>\n",
       "      <td>s_0</td>\n",
       "      <td>ct_0</td>\n",
       "    </tr>\n",
       "    <tr>\n",
       "      <th>5138</th>\n",
       "      <td>T_0</td>\n",
       "      <td>test_2021-03-01 02:30:02.237425</td>\n",
       "      <td>s_0</td>\n",
       "      <td>ct_0</td>\n",
       "    </tr>\n",
       "    <tr>\n",
       "      <th>9668</th>\n",
       "      <td>T_0</td>\n",
       "      <td>test_2021-03-01 02:30:02.237437</td>\n",
       "      <td>s_0</td>\n",
       "      <td>ct_1</td>\n",
       "    </tr>\n",
       "    <tr>\n",
       "      <th>10728</th>\n",
       "      <td>T_0</td>\n",
       "      <td>test_2021-03-01 02:30:02.237436</td>\n",
       "      <td>s_0</td>\n",
       "      <td>ct_0</td>\n",
       "    </tr>\n",
       "    <tr>\n",
       "      <th>15292</th>\n",
       "      <td>T_0</td>\n",
       "      <td>test_2021-03-01 02:30:02.237430</td>\n",
       "      <td>s_0</td>\n",
       "      <td>ct_0</td>\n",
       "    </tr>\n",
       "    <tr>\n",
       "      <th>...</th>\n",
       "      <td>...</td>\n",
       "      <td>...</td>\n",
       "      <td>...</td>\n",
       "      <td>...</td>\n",
       "    </tr>\n",
       "    <tr>\n",
       "      <th>657830</th>\n",
       "      <td>T_0</td>\n",
       "      <td>test_2021-03-01 02:30:02.237417</td>\n",
       "      <td>s_0</td>\n",
       "      <td>ct_0</td>\n",
       "    </tr>\n",
       "    <tr>\n",
       "      <th>662081</th>\n",
       "      <td>T_0</td>\n",
       "      <td>test_2021-03-01 02:30:02.237427</td>\n",
       "      <td>s_0</td>\n",
       "      <td>ct_1</td>\n",
       "    </tr>\n",
       "    <tr>\n",
       "      <th>670680</th>\n",
       "      <td>T_0</td>\n",
       "      <td>test_2021-03-01 02:30:02.237449</td>\n",
       "      <td>s_0</td>\n",
       "      <td>ct_1</td>\n",
       "    </tr>\n",
       "    <tr>\n",
       "      <th>671647</th>\n",
       "      <td>T_0</td>\n",
       "      <td>test_2021-03-01 02:30:02.237424</td>\n",
       "      <td>s_0</td>\n",
       "      <td>ct_1</td>\n",
       "    </tr>\n",
       "    <tr>\n",
       "      <th>679180</th>\n",
       "      <td>T_0</td>\n",
       "      <td>test_2021-03-01 02:30:02.237425</td>\n",
       "      <td>s_0</td>\n",
       "      <td>ct_1</td>\n",
       "    </tr>\n",
       "  </tbody>\n",
       "</table>\n",
       "<p>200 rows × 4 columns</p>\n",
       "</div>"
      ],
      "text/plain": [
       "       id_prod                             date session_id client_id\n",
       "3019       T_0  test_2021-03-01 02:30:02.237419        s_0      ct_0\n",
       "5138       T_0  test_2021-03-01 02:30:02.237425        s_0      ct_0\n",
       "9668       T_0  test_2021-03-01 02:30:02.237437        s_0      ct_1\n",
       "10728      T_0  test_2021-03-01 02:30:02.237436        s_0      ct_0\n",
       "15292      T_0  test_2021-03-01 02:30:02.237430        s_0      ct_0\n",
       "...        ...                              ...        ...       ...\n",
       "657830     T_0  test_2021-03-01 02:30:02.237417        s_0      ct_0\n",
       "662081     T_0  test_2021-03-01 02:30:02.237427        s_0      ct_1\n",
       "670680     T_0  test_2021-03-01 02:30:02.237449        s_0      ct_1\n",
       "671647     T_0  test_2021-03-01 02:30:02.237424        s_0      ct_1\n",
       "679180     T_0  test_2021-03-01 02:30:02.237425        s_0      ct_1\n",
       "\n",
       "[200 rows x 4 columns]"
      ]
     },
     "execution_count": 27,
     "metadata": {},
     "output_type": "execute_result"
    }
   ],
   "source": [
    "# Identifier les produits tests du fichier transaction\n",
    "ventes.loc[ventes[\"id_prod\"] == \"T_0\"]"
   ]
  },
  {
   "cell_type": "markdown",
   "id": "814d3655-0245-464f-88c3-e9329cefff37",
   "metadata": {},
   "source": [
    "**La variable date permet de voir que le produit identifié par T_O est un produit test. Alors on va les écraser pour la suite.** "
   ]
  },
  {
   "cell_type": "code",
   "execution_count": 28,
   "id": "e94b9b6c-baf4-4e37-96f8-0f919f430971",
   "metadata": {},
   "outputs": [
    {
     "data": {
      "text/html": [
       "<div>\n",
       "<style scoped>\n",
       "    .dataframe tbody tr th:only-of-type {\n",
       "        vertical-align: middle;\n",
       "    }\n",
       "\n",
       "    .dataframe tbody tr th {\n",
       "        vertical-align: top;\n",
       "    }\n",
       "\n",
       "    .dataframe thead th {\n",
       "        text-align: right;\n",
       "    }\n",
       "</style>\n",
       "<table border=\"1\" class=\"dataframe\">\n",
       "  <thead>\n",
       "    <tr style=\"text-align: right;\">\n",
       "      <th></th>\n",
       "      <th>id_prod</th>\n",
       "      <th>date</th>\n",
       "      <th>session_id</th>\n",
       "      <th>client_id</th>\n",
       "    </tr>\n",
       "  </thead>\n",
       "  <tbody>\n",
       "    <tr>\n",
       "      <th>0</th>\n",
       "      <td>0_1518</td>\n",
       "      <td>2022-05-20 13:21:29.043970</td>\n",
       "      <td>s_211425</td>\n",
       "      <td>c_103</td>\n",
       "    </tr>\n",
       "    <tr>\n",
       "      <th>1</th>\n",
       "      <td>1_251</td>\n",
       "      <td>2022-02-02 07:55:19.149409</td>\n",
       "      <td>s_158752</td>\n",
       "      <td>c_8534</td>\n",
       "    </tr>\n",
       "    <tr>\n",
       "      <th>2</th>\n",
       "      <td>0_1277</td>\n",
       "      <td>2022-06-18 15:44:33.155329</td>\n",
       "      <td>s_225667</td>\n",
       "      <td>c_6714</td>\n",
       "    </tr>\n",
       "    <tr>\n",
       "      <th>3</th>\n",
       "      <td>2_209</td>\n",
       "      <td>2021-06-24 04:19:29.835891</td>\n",
       "      <td>s_52962</td>\n",
       "      <td>c_6941</td>\n",
       "    </tr>\n",
       "    <tr>\n",
       "      <th>4</th>\n",
       "      <td>0_1509</td>\n",
       "      <td>2023-01-11 08:22:08.194479</td>\n",
       "      <td>s_325227</td>\n",
       "      <td>c_4232</td>\n",
       "    </tr>\n",
       "  </tbody>\n",
       "</table>\n",
       "</div>"
      ],
      "text/plain": [
       "  id_prod                        date session_id client_id\n",
       "0  0_1518  2022-05-20 13:21:29.043970   s_211425     c_103\n",
       "1   1_251  2022-02-02 07:55:19.149409   s_158752    c_8534\n",
       "2  0_1277  2022-06-18 15:44:33.155329   s_225667    c_6714\n",
       "3   2_209  2021-06-24 04:19:29.835891    s_52962    c_6941\n",
       "4  0_1509  2023-01-11 08:22:08.194479   s_325227    c_4232"
      ]
     },
     "execution_count": 28,
     "metadata": {},
     "output_type": "execute_result"
    }
   ],
   "source": [
    "ventes = ventes.loc[ventes[\"id_prod\"] != \"T_0\"]\n",
    "ventes.head()"
   ]
  },
  {
   "cell_type": "markdown",
   "id": "160565dd-f749-4cf1-93bf-cc47bdb51937",
   "metadata": {},
   "source": [
    "**Convertir la variable \"date\" au format date**  \n",
    "Pour convertir la variable \"date\" qui est de type chaine de caractére au format date, nous allons utiliser la fonction to_datetime."
   ]
  },
  {
   "cell_type": "code",
   "execution_count": 29,
   "id": "37e330e5-048a-4428-8026-23c6f45913e5",
   "metadata": {},
   "outputs": [
    {
     "data": {
      "text/html": [
       "<div>\n",
       "<style scoped>\n",
       "    .dataframe tbody tr th:only-of-type {\n",
       "        vertical-align: middle;\n",
       "    }\n",
       "\n",
       "    .dataframe tbody tr th {\n",
       "        vertical-align: top;\n",
       "    }\n",
       "\n",
       "    .dataframe thead th {\n",
       "        text-align: right;\n",
       "    }\n",
       "</style>\n",
       "<table border=\"1\" class=\"dataframe\">\n",
       "  <thead>\n",
       "    <tr style=\"text-align: right;\">\n",
       "      <th></th>\n",
       "      <th>id_prod</th>\n",
       "      <th>date</th>\n",
       "      <th>session_id</th>\n",
       "      <th>client_id</th>\n",
       "      <th>heure</th>\n",
       "    </tr>\n",
       "  </thead>\n",
       "  <tbody>\n",
       "    <tr>\n",
       "      <th>0</th>\n",
       "      <td>0_1518</td>\n",
       "      <td>2022-05-20</td>\n",
       "      <td>s_211425</td>\n",
       "      <td>c_103</td>\n",
       "      <td>13:21:29.043970</td>\n",
       "    </tr>\n",
       "    <tr>\n",
       "      <th>1</th>\n",
       "      <td>1_251</td>\n",
       "      <td>2022-02-02</td>\n",
       "      <td>s_158752</td>\n",
       "      <td>c_8534</td>\n",
       "      <td>07:55:19.149409</td>\n",
       "    </tr>\n",
       "    <tr>\n",
       "      <th>2</th>\n",
       "      <td>0_1277</td>\n",
       "      <td>2022-06-18</td>\n",
       "      <td>s_225667</td>\n",
       "      <td>c_6714</td>\n",
       "      <td>15:44:33.155329</td>\n",
       "    </tr>\n",
       "    <tr>\n",
       "      <th>3</th>\n",
       "      <td>2_209</td>\n",
       "      <td>2021-06-24</td>\n",
       "      <td>s_52962</td>\n",
       "      <td>c_6941</td>\n",
       "      <td>04:19:29.835891</td>\n",
       "    </tr>\n",
       "    <tr>\n",
       "      <th>4</th>\n",
       "      <td>0_1509</td>\n",
       "      <td>2023-01-11</td>\n",
       "      <td>s_325227</td>\n",
       "      <td>c_4232</td>\n",
       "      <td>08:22:08.194479</td>\n",
       "    </tr>\n",
       "  </tbody>\n",
       "</table>\n",
       "</div>"
      ],
      "text/plain": [
       "  id_prod       date session_id client_id            heure\n",
       "0  0_1518 2022-05-20   s_211425     c_103  13:21:29.043970\n",
       "1   1_251 2022-02-02   s_158752    c_8534  07:55:19.149409\n",
       "2  0_1277 2022-06-18   s_225667    c_6714  15:44:33.155329\n",
       "3   2_209 2021-06-24    s_52962    c_6941  04:19:29.835891\n",
       "4  0_1509 2023-01-11   s_325227    c_4232  08:22:08.194479"
      ]
     },
     "execution_count": 29,
     "metadata": {},
     "output_type": "execute_result"
    }
   ],
   "source": [
    "#ventes[\"heure\"] = pd.to_datetime(ventes[\"date\"]).dt.time\n",
    "#ventes[\"date\"] = pd.to_datetime(ventes[\"date\"]).dt.date\n",
    "ventes[\"heure\"] = pd.to_datetime(ventes[\"date\"]).dt.time\n",
    "ventes[\"date\"] = pd.to_datetime(ventes[\"date\"]).dt.date\n",
    "ventes[\"date\"] = pd.to_datetime(ventes[\"date\"], format = \"%Y-%m-%d %H:%M:%S\")\n",
    "ventes.head()"
   ]
  },
  {
   "cell_type": "markdown",
   "id": "000945dd-c034-4f18-8128-fc9902416c6a",
   "metadata": {},
   "source": [
    "<h2 ><a id=\"6\"> II. Fusionner les dataframes</a></h2> \n",
    "\n",
    "Pour poursuivre notre analyse, nous allons fusionner les different Dataframe et exporter le fichier final dans notre dossier de travail.\n",
    "\n",
    "<h3 ><a id=\"7\">1. Fusionner les dataframes transaction, clients et produits</a></h3> "
   ]
  },
  {
   "cell_type": "code",
   "execution_count": 30,
   "id": "86974f90-28f2-47dd-baf1-f1a20628f028",
   "metadata": {},
   "outputs": [
    {
     "data": {
      "text/html": [
       "<div>\n",
       "<style scoped>\n",
       "    .dataframe tbody tr th:only-of-type {\n",
       "        vertical-align: middle;\n",
       "    }\n",
       "\n",
       "    .dataframe tbody tr th {\n",
       "        vertical-align: top;\n",
       "    }\n",
       "\n",
       "    .dataframe thead th {\n",
       "        text-align: right;\n",
       "    }\n",
       "</style>\n",
       "<table border=\"1\" class=\"dataframe\">\n",
       "  <thead>\n",
       "    <tr style=\"text-align: right;\">\n",
       "      <th></th>\n",
       "      <th>id_prod</th>\n",
       "      <th>date</th>\n",
       "      <th>session_id</th>\n",
       "      <th>client_id</th>\n",
       "      <th>heure</th>\n",
       "      <th>sex</th>\n",
       "      <th>birth</th>\n",
       "      <th>age_client</th>\n",
       "      <th>tranche_d'age</th>\n",
       "      <th>price</th>\n",
       "      <th>categ</th>\n",
       "    </tr>\n",
       "  </thead>\n",
       "  <tbody>\n",
       "    <tr>\n",
       "      <th>0</th>\n",
       "      <td>0_1518</td>\n",
       "      <td>2022-05-20</td>\n",
       "      <td>s_211425</td>\n",
       "      <td>c_103</td>\n",
       "      <td>13:21:29.043970</td>\n",
       "      <td>f</td>\n",
       "      <td>1986</td>\n",
       "      <td>36</td>\n",
       "      <td>36 - 45ans</td>\n",
       "      <td>4.18</td>\n",
       "      <td>0.0</td>\n",
       "    </tr>\n",
       "    <tr>\n",
       "      <th>1</th>\n",
       "      <td>1_251</td>\n",
       "      <td>2022-02-02</td>\n",
       "      <td>s_158752</td>\n",
       "      <td>c_8534</td>\n",
       "      <td>07:55:19.149409</td>\n",
       "      <td>m</td>\n",
       "      <td>1988</td>\n",
       "      <td>34</td>\n",
       "      <td>26 - 35ans</td>\n",
       "      <td>15.99</td>\n",
       "      <td>1.0</td>\n",
       "    </tr>\n",
       "    <tr>\n",
       "      <th>2</th>\n",
       "      <td>0_1277</td>\n",
       "      <td>2022-06-18</td>\n",
       "      <td>s_225667</td>\n",
       "      <td>c_6714</td>\n",
       "      <td>15:44:33.155329</td>\n",
       "      <td>f</td>\n",
       "      <td>1968</td>\n",
       "      <td>54</td>\n",
       "      <td>46 - 55ans</td>\n",
       "      <td>7.99</td>\n",
       "      <td>0.0</td>\n",
       "    </tr>\n",
       "    <tr>\n",
       "      <th>3</th>\n",
       "      <td>2_209</td>\n",
       "      <td>2021-06-24</td>\n",
       "      <td>s_52962</td>\n",
       "      <td>c_6941</td>\n",
       "      <td>04:19:29.835891</td>\n",
       "      <td>m</td>\n",
       "      <td>2000</td>\n",
       "      <td>22</td>\n",
       "      <td>15 - 25ans</td>\n",
       "      <td>69.99</td>\n",
       "      <td>2.0</td>\n",
       "    </tr>\n",
       "    <tr>\n",
       "      <th>4</th>\n",
       "      <td>0_1509</td>\n",
       "      <td>2023-01-11</td>\n",
       "      <td>s_325227</td>\n",
       "      <td>c_4232</td>\n",
       "      <td>08:22:08.194479</td>\n",
       "      <td>m</td>\n",
       "      <td>1980</td>\n",
       "      <td>42</td>\n",
       "      <td>36 - 45ans</td>\n",
       "      <td>4.99</td>\n",
       "      <td>0.0</td>\n",
       "    </tr>\n",
       "  </tbody>\n",
       "</table>\n",
       "</div>"
      ],
      "text/plain": [
       "  id_prod       date session_id client_id            heure sex  birth  \\\n",
       "0  0_1518 2022-05-20   s_211425     c_103  13:21:29.043970   f   1986   \n",
       "1   1_251 2022-02-02   s_158752    c_8534  07:55:19.149409   m   1988   \n",
       "2  0_1277 2022-06-18   s_225667    c_6714  15:44:33.155329   f   1968   \n",
       "3   2_209 2021-06-24    s_52962    c_6941  04:19:29.835891   m   2000   \n",
       "4  0_1509 2023-01-11   s_325227    c_4232  08:22:08.194479   m   1980   \n",
       "\n",
       "   age_client tranche_d'age  price  categ  \n",
       "0          36    36 - 45ans   4.18    0.0  \n",
       "1          34    26 - 35ans  15.99    1.0  \n",
       "2          54    46 - 55ans   7.99    0.0  \n",
       "3          22    15 - 25ans  69.99    2.0  \n",
       "4          42    36 - 45ans   4.99    0.0  "
      ]
     },
     "execution_count": 30,
     "metadata": {},
     "output_type": "execute_result"
    }
   ],
   "source": [
    "df_final = ventes.merge(clients, how = \"left\" , on = \"client_id\").merge( produits, how = \"left\",on = \"id_prod\")\n",
    "df_final.head()"
   ]
  },
  {
   "cell_type": "code",
   "execution_count": 31,
   "id": "c05d208e-a0b5-44de-8839-ba18d67e3978",
   "metadata": {},
   "outputs": [
    {
     "name": "stdout",
     "output_type": "stream",
     "text": [
      "221\n"
     ]
    }
   ],
   "source": [
    "valeur_nulle(df_final,\"price\")"
   ]
  },
  {
   "cell_type": "markdown",
   "id": "0fbba830-ac3e-40b8-9843-5a5fcd00e132",
   "metadata": {},
   "source": [
    "**La variable \"price\" comporte un nombre important de valeur manquante(242).**"
   ]
  },
  {
   "cell_type": "code",
   "execution_count": 32,
   "id": "e284a1ab-c433-4798-afd0-4c82341a2521",
   "metadata": {},
   "outputs": [
    {
     "data": {
      "text/html": [
       "<div>\n",
       "<style scoped>\n",
       "    .dataframe tbody tr th:only-of-type {\n",
       "        vertical-align: middle;\n",
       "    }\n",
       "\n",
       "    .dataframe tbody tr th {\n",
       "        vertical-align: top;\n",
       "    }\n",
       "\n",
       "    .dataframe thead th {\n",
       "        text-align: right;\n",
       "    }\n",
       "</style>\n",
       "<table border=\"1\" class=\"dataframe\">\n",
       "  <thead>\n",
       "    <tr style=\"text-align: right;\">\n",
       "      <th></th>\n",
       "      <th>id_prod</th>\n",
       "      <th>date</th>\n",
       "      <th>session_id</th>\n",
       "      <th>client_id</th>\n",
       "      <th>heure</th>\n",
       "      <th>sex</th>\n",
       "      <th>birth</th>\n",
       "      <th>age_client</th>\n",
       "      <th>tranche_d'age</th>\n",
       "      <th>price</th>\n",
       "      <th>categ</th>\n",
       "    </tr>\n",
       "  </thead>\n",
       "  <tbody>\n",
       "    <tr>\n",
       "      <th>2633</th>\n",
       "      <td>0_2245</td>\n",
       "      <td>2022-09-23</td>\n",
       "      <td>s_272266</td>\n",
       "      <td>c_4746</td>\n",
       "      <td>07:22:38.636773</td>\n",
       "      <td>m</td>\n",
       "      <td>1940</td>\n",
       "      <td>82</td>\n",
       "      <td>76 - plus</td>\n",
       "      <td>NaN</td>\n",
       "      <td>NaN</td>\n",
       "    </tr>\n",
       "    <tr>\n",
       "      <th>10103</th>\n",
       "      <td>0_2245</td>\n",
       "      <td>2022-07-23</td>\n",
       "      <td>s_242482</td>\n",
       "      <td>c_6713</td>\n",
       "      <td>09:24:14.133889</td>\n",
       "      <td>f</td>\n",
       "      <td>1963</td>\n",
       "      <td>59</td>\n",
       "      <td>56 - 65ans</td>\n",
       "      <td>NaN</td>\n",
       "      <td>NaN</td>\n",
       "    </tr>\n",
       "    <tr>\n",
       "      <th>11723</th>\n",
       "      <td>0_2245</td>\n",
       "      <td>2022-12-03</td>\n",
       "      <td>s_306338</td>\n",
       "      <td>c_5108</td>\n",
       "      <td>03:26:35.696673</td>\n",
       "      <td>m</td>\n",
       "      <td>1978</td>\n",
       "      <td>44</td>\n",
       "      <td>36 - 45ans</td>\n",
       "      <td>NaN</td>\n",
       "      <td>NaN</td>\n",
       "    </tr>\n",
       "    <tr>\n",
       "      <th>15670</th>\n",
       "      <td>0_2245</td>\n",
       "      <td>2021-08-16</td>\n",
       "      <td>s_76493</td>\n",
       "      <td>c_1391</td>\n",
       "      <td>11:33:25.481411</td>\n",
       "      <td>m</td>\n",
       "      <td>1991</td>\n",
       "      <td>31</td>\n",
       "      <td>26 - 35ans</td>\n",
       "      <td>NaN</td>\n",
       "      <td>NaN</td>\n",
       "    </tr>\n",
       "    <tr>\n",
       "      <th>16372</th>\n",
       "      <td>0_2245</td>\n",
       "      <td>2022-07-16</td>\n",
       "      <td>s_239078</td>\n",
       "      <td>c_7954</td>\n",
       "      <td>05:53:01.627491</td>\n",
       "      <td>m</td>\n",
       "      <td>1973</td>\n",
       "      <td>49</td>\n",
       "      <td>46 - 55ans</td>\n",
       "      <td>NaN</td>\n",
       "      <td>NaN</td>\n",
       "    </tr>\n",
       "    <tr>\n",
       "      <th>...</th>\n",
       "      <td>...</td>\n",
       "      <td>...</td>\n",
       "      <td>...</td>\n",
       "      <td>...</td>\n",
       "      <td>...</td>\n",
       "      <td>...</td>\n",
       "      <td>...</td>\n",
       "      <td>...</td>\n",
       "      <td>...</td>\n",
       "      <td>...</td>\n",
       "      <td>...</td>\n",
       "    </tr>\n",
       "    <tr>\n",
       "      <th>669533</th>\n",
       "      <td>0_2245</td>\n",
       "      <td>2021-08-25</td>\n",
       "      <td>s_80395</td>\n",
       "      <td>c_131</td>\n",
       "      <td>09:06:03.504061</td>\n",
       "      <td>m</td>\n",
       "      <td>1981</td>\n",
       "      <td>41</td>\n",
       "      <td>36 - 45ans</td>\n",
       "      <td>NaN</td>\n",
       "      <td>NaN</td>\n",
       "    </tr>\n",
       "    <tr>\n",
       "      <th>670484</th>\n",
       "      <td>0_2245</td>\n",
       "      <td>2022-03-06</td>\n",
       "      <td>s_175311</td>\n",
       "      <td>c_4167</td>\n",
       "      <td>19:59:19.462288</td>\n",
       "      <td>f</td>\n",
       "      <td>1979</td>\n",
       "      <td>43</td>\n",
       "      <td>36 - 45ans</td>\n",
       "      <td>NaN</td>\n",
       "      <td>NaN</td>\n",
       "    </tr>\n",
       "    <tr>\n",
       "      <th>671088</th>\n",
       "      <td>0_2245</td>\n",
       "      <td>2022-05-16</td>\n",
       "      <td>s_209381</td>\n",
       "      <td>c_4453</td>\n",
       "      <td>11:35:20.319501</td>\n",
       "      <td>m</td>\n",
       "      <td>1981</td>\n",
       "      <td>41</td>\n",
       "      <td>36 - 45ans</td>\n",
       "      <td>NaN</td>\n",
       "      <td>NaN</td>\n",
       "    </tr>\n",
       "    <tr>\n",
       "      <th>675480</th>\n",
       "      <td>0_2245</td>\n",
       "      <td>2022-02-11</td>\n",
       "      <td>s_163405</td>\n",
       "      <td>c_1098</td>\n",
       "      <td>09:05:43.952857</td>\n",
       "      <td>m</td>\n",
       "      <td>1986</td>\n",
       "      <td>36</td>\n",
       "      <td>36 - 45ans</td>\n",
       "      <td>NaN</td>\n",
       "      <td>NaN</td>\n",
       "    </tr>\n",
       "    <tr>\n",
       "      <th>677797</th>\n",
       "      <td>0_2245</td>\n",
       "      <td>2021-12-14</td>\n",
       "      <td>s_134446</td>\n",
       "      <td>c_4854</td>\n",
       "      <td>22:34:54.589921</td>\n",
       "      <td>m</td>\n",
       "      <td>1968</td>\n",
       "      <td>54</td>\n",
       "      <td>46 - 55ans</td>\n",
       "      <td>NaN</td>\n",
       "      <td>NaN</td>\n",
       "    </tr>\n",
       "  </tbody>\n",
       "</table>\n",
       "<p>221 rows × 11 columns</p>\n",
       "</div>"
      ],
      "text/plain": [
       "       id_prod       date session_id client_id            heure sex  birth  \\\n",
       "2633    0_2245 2022-09-23   s_272266    c_4746  07:22:38.636773   m   1940   \n",
       "10103   0_2245 2022-07-23   s_242482    c_6713  09:24:14.133889   f   1963   \n",
       "11723   0_2245 2022-12-03   s_306338    c_5108  03:26:35.696673   m   1978   \n",
       "15670   0_2245 2021-08-16    s_76493    c_1391  11:33:25.481411   m   1991   \n",
       "16372   0_2245 2022-07-16   s_239078    c_7954  05:53:01.627491   m   1973   \n",
       "...        ...        ...        ...       ...              ...  ..    ...   \n",
       "669533  0_2245 2021-08-25    s_80395     c_131  09:06:03.504061   m   1981   \n",
       "670484  0_2245 2022-03-06   s_175311    c_4167  19:59:19.462288   f   1979   \n",
       "671088  0_2245 2022-05-16   s_209381    c_4453  11:35:20.319501   m   1981   \n",
       "675480  0_2245 2022-02-11   s_163405    c_1098  09:05:43.952857   m   1986   \n",
       "677797  0_2245 2021-12-14   s_134446    c_4854  22:34:54.589921   m   1968   \n",
       "\n",
       "        age_client tranche_d'age  price  categ  \n",
       "2633            82     76 - plus    NaN    NaN  \n",
       "10103           59    56 - 65ans    NaN    NaN  \n",
       "11723           44    36 - 45ans    NaN    NaN  \n",
       "15670           31    26 - 35ans    NaN    NaN  \n",
       "16372           49    46 - 55ans    NaN    NaN  \n",
       "...            ...           ...    ...    ...  \n",
       "669533          41    36 - 45ans    NaN    NaN  \n",
       "670484          43    36 - 45ans    NaN    NaN  \n",
       "671088          41    36 - 45ans    NaN    NaN  \n",
       "675480          36    36 - 45ans    NaN    NaN  \n",
       "677797          54    46 - 55ans    NaN    NaN  \n",
       "\n",
       "[221 rows x 11 columns]"
      ]
     },
     "execution_count": 32,
     "metadata": {},
     "output_type": "execute_result"
    }
   ],
   "source": [
    "df_final.loc[df_final[\"price\"].isnull()]"
   ]
  },
  {
   "cell_type": "markdown",
   "id": "cd1ab50c-1fc0-4af4-b2d4-2568bb04879b",
   "metadata": {},
   "source": [
    "**Les valeurs manquantes au niveau des variables price et categ correspondent à un produit identifier par 0_2245**"
   ]
  },
  {
   "cell_type": "markdown",
   "id": "6e8eb828-8e64-4b1c-b63a-c09b10c4356b",
   "metadata": {},
   "source": [
    "<h3 ><a id=\"8\">2. Imputation par la moyenne des valeurs manquantes</a></h3> \n",
    "\n",
    "On constate des valeurs manquantes au niveau du prix et de la catégorie pour le produit 0_2245.\n",
    "Le produit appartient à la catégorie 0 donc les valeurs manquantes de la variable catégorie seront remplacées par 0.   \n",
    "Le produit a été acheté par un nombre important de clients de tous genres et de différents âges. Comme le produit n'est probablement gratuit donc il ne peut pas prendre la valeur 0 par conséquent nous allons remplacer les valeurs manquantes par la  moyenne des prix."
   ]
  },
  {
   "cell_type": "code",
   "execution_count": 33,
   "id": "9cfaceea-2d56-4933-8628-f63f4348b821",
   "metadata": {},
   "outputs": [
    {
     "data": {
      "text/plain": [
       "10.64"
      ]
     },
     "execution_count": 33,
     "metadata": {},
     "output_type": "execute_result"
    }
   ],
   "source": [
    "#Calcuer la moyenne des prix\n",
    "moyenne = round(df_final.loc[df_final[\"categ\"]==0][\"price\"].mean(),2)\n",
    "moyenne"
   ]
  },
  {
   "cell_type": "code",
   "execution_count": 34,
   "id": "71cbf6cd-dd4d-427b-ad31-fa993d8d91f4",
   "metadata": {},
   "outputs": [
    {
     "data": {
      "text/html": [
       "<div>\n",
       "<style scoped>\n",
       "    .dataframe tbody tr th:only-of-type {\n",
       "        vertical-align: middle;\n",
       "    }\n",
       "\n",
       "    .dataframe tbody tr th {\n",
       "        vertical-align: top;\n",
       "    }\n",
       "\n",
       "    .dataframe thead th {\n",
       "        text-align: right;\n",
       "    }\n",
       "</style>\n",
       "<table border=\"1\" class=\"dataframe\">\n",
       "  <thead>\n",
       "    <tr style=\"text-align: right;\">\n",
       "      <th></th>\n",
       "      <th>id_prod</th>\n",
       "      <th>date</th>\n",
       "      <th>session_id</th>\n",
       "      <th>client_id</th>\n",
       "      <th>heure</th>\n",
       "      <th>sex</th>\n",
       "      <th>birth</th>\n",
       "      <th>age_client</th>\n",
       "      <th>tranche_d'age</th>\n",
       "      <th>price</th>\n",
       "      <th>categ</th>\n",
       "    </tr>\n",
       "  </thead>\n",
       "  <tbody>\n",
       "    <tr>\n",
       "      <th>0</th>\n",
       "      <td>0_1518</td>\n",
       "      <td>2022-05-20</td>\n",
       "      <td>s_211425</td>\n",
       "      <td>c_103</td>\n",
       "      <td>13:21:29.043970</td>\n",
       "      <td>f</td>\n",
       "      <td>1986</td>\n",
       "      <td>36</td>\n",
       "      <td>36 - 45ans</td>\n",
       "      <td>4.18</td>\n",
       "      <td>0.0</td>\n",
       "    </tr>\n",
       "    <tr>\n",
       "      <th>1</th>\n",
       "      <td>1_251</td>\n",
       "      <td>2022-02-02</td>\n",
       "      <td>s_158752</td>\n",
       "      <td>c_8534</td>\n",
       "      <td>07:55:19.149409</td>\n",
       "      <td>m</td>\n",
       "      <td>1988</td>\n",
       "      <td>34</td>\n",
       "      <td>26 - 35ans</td>\n",
       "      <td>15.99</td>\n",
       "      <td>1.0</td>\n",
       "    </tr>\n",
       "    <tr>\n",
       "      <th>2</th>\n",
       "      <td>0_1277</td>\n",
       "      <td>2022-06-18</td>\n",
       "      <td>s_225667</td>\n",
       "      <td>c_6714</td>\n",
       "      <td>15:44:33.155329</td>\n",
       "      <td>f</td>\n",
       "      <td>1968</td>\n",
       "      <td>54</td>\n",
       "      <td>46 - 55ans</td>\n",
       "      <td>7.99</td>\n",
       "      <td>0.0</td>\n",
       "    </tr>\n",
       "    <tr>\n",
       "      <th>3</th>\n",
       "      <td>2_209</td>\n",
       "      <td>2021-06-24</td>\n",
       "      <td>s_52962</td>\n",
       "      <td>c_6941</td>\n",
       "      <td>04:19:29.835891</td>\n",
       "      <td>m</td>\n",
       "      <td>2000</td>\n",
       "      <td>22</td>\n",
       "      <td>15 - 25ans</td>\n",
       "      <td>69.99</td>\n",
       "      <td>2.0</td>\n",
       "    </tr>\n",
       "    <tr>\n",
       "      <th>4</th>\n",
       "      <td>0_1509</td>\n",
       "      <td>2023-01-11</td>\n",
       "      <td>s_325227</td>\n",
       "      <td>c_4232</td>\n",
       "      <td>08:22:08.194479</td>\n",
       "      <td>m</td>\n",
       "      <td>1980</td>\n",
       "      <td>42</td>\n",
       "      <td>36 - 45ans</td>\n",
       "      <td>4.99</td>\n",
       "      <td>0.0</td>\n",
       "    </tr>\n",
       "  </tbody>\n",
       "</table>\n",
       "</div>"
      ],
      "text/plain": [
       "  id_prod       date session_id client_id            heure sex  birth  \\\n",
       "0  0_1518 2022-05-20   s_211425     c_103  13:21:29.043970   f   1986   \n",
       "1   1_251 2022-02-02   s_158752    c_8534  07:55:19.149409   m   1988   \n",
       "2  0_1277 2022-06-18   s_225667    c_6714  15:44:33.155329   f   1968   \n",
       "3   2_209 2021-06-24    s_52962    c_6941  04:19:29.835891   m   2000   \n",
       "4  0_1509 2023-01-11   s_325227    c_4232  08:22:08.194479   m   1980   \n",
       "\n",
       "   age_client tranche_d'age  price  categ  \n",
       "0          36    36 - 45ans   4.18    0.0  \n",
       "1          34    26 - 35ans  15.99    1.0  \n",
       "2          54    46 - 55ans   7.99    0.0  \n",
       "3          22    15 - 25ans  69.99    2.0  \n",
       "4          42    36 - 45ans   4.99    0.0  "
      ]
     },
     "execution_count": 34,
     "metadata": {},
     "output_type": "execute_result"
    }
   ],
   "source": [
    "#Remplacer les valeurs manquantes de la variable catégorie par 0\n",
    "df_final[\"categ\"].fillna(0, inplace = True)\n",
    "df_final.head()"
   ]
  },
  {
   "cell_type": "code",
   "execution_count": 35,
   "id": "a1ff5d8e-2391-486d-8ca8-86ae4a5e21bf",
   "metadata": {},
   "outputs": [
    {
     "data": {
      "text/html": [
       "<div>\n",
       "<style scoped>\n",
       "    .dataframe tbody tr th:only-of-type {\n",
       "        vertical-align: middle;\n",
       "    }\n",
       "\n",
       "    .dataframe tbody tr th {\n",
       "        vertical-align: top;\n",
       "    }\n",
       "\n",
       "    .dataframe thead th {\n",
       "        text-align: right;\n",
       "    }\n",
       "</style>\n",
       "<table border=\"1\" class=\"dataframe\">\n",
       "  <thead>\n",
       "    <tr style=\"text-align: right;\">\n",
       "      <th></th>\n",
       "      <th>id_prod</th>\n",
       "      <th>date</th>\n",
       "      <th>session_id</th>\n",
       "      <th>client_id</th>\n",
       "      <th>heure</th>\n",
       "      <th>sex</th>\n",
       "      <th>birth</th>\n",
       "      <th>age_client</th>\n",
       "      <th>tranche_d'age</th>\n",
       "      <th>price</th>\n",
       "      <th>categ</th>\n",
       "    </tr>\n",
       "  </thead>\n",
       "  <tbody>\n",
       "    <tr>\n",
       "      <th>0</th>\n",
       "      <td>0_1518</td>\n",
       "      <td>2022-05-20</td>\n",
       "      <td>s_211425</td>\n",
       "      <td>c_103</td>\n",
       "      <td>13:21:29.043970</td>\n",
       "      <td>f</td>\n",
       "      <td>1986</td>\n",
       "      <td>36</td>\n",
       "      <td>36 - 45ans</td>\n",
       "      <td>4.18</td>\n",
       "      <td>0.0</td>\n",
       "    </tr>\n",
       "    <tr>\n",
       "      <th>1</th>\n",
       "      <td>1_251</td>\n",
       "      <td>2022-02-02</td>\n",
       "      <td>s_158752</td>\n",
       "      <td>c_8534</td>\n",
       "      <td>07:55:19.149409</td>\n",
       "      <td>m</td>\n",
       "      <td>1988</td>\n",
       "      <td>34</td>\n",
       "      <td>26 - 35ans</td>\n",
       "      <td>15.99</td>\n",
       "      <td>1.0</td>\n",
       "    </tr>\n",
       "    <tr>\n",
       "      <th>2</th>\n",
       "      <td>0_1277</td>\n",
       "      <td>2022-06-18</td>\n",
       "      <td>s_225667</td>\n",
       "      <td>c_6714</td>\n",
       "      <td>15:44:33.155329</td>\n",
       "      <td>f</td>\n",
       "      <td>1968</td>\n",
       "      <td>54</td>\n",
       "      <td>46 - 55ans</td>\n",
       "      <td>7.99</td>\n",
       "      <td>0.0</td>\n",
       "    </tr>\n",
       "    <tr>\n",
       "      <th>3</th>\n",
       "      <td>2_209</td>\n",
       "      <td>2021-06-24</td>\n",
       "      <td>s_52962</td>\n",
       "      <td>c_6941</td>\n",
       "      <td>04:19:29.835891</td>\n",
       "      <td>m</td>\n",
       "      <td>2000</td>\n",
       "      <td>22</td>\n",
       "      <td>15 - 25ans</td>\n",
       "      <td>69.99</td>\n",
       "      <td>2.0</td>\n",
       "    </tr>\n",
       "    <tr>\n",
       "      <th>4</th>\n",
       "      <td>0_1509</td>\n",
       "      <td>2023-01-11</td>\n",
       "      <td>s_325227</td>\n",
       "      <td>c_4232</td>\n",
       "      <td>08:22:08.194479</td>\n",
       "      <td>m</td>\n",
       "      <td>1980</td>\n",
       "      <td>42</td>\n",
       "      <td>36 - 45ans</td>\n",
       "      <td>4.99</td>\n",
       "      <td>0.0</td>\n",
       "    </tr>\n",
       "  </tbody>\n",
       "</table>\n",
       "</div>"
      ],
      "text/plain": [
       "  id_prod       date session_id client_id            heure sex  birth  \\\n",
       "0  0_1518 2022-05-20   s_211425     c_103  13:21:29.043970   f   1986   \n",
       "1   1_251 2022-02-02   s_158752    c_8534  07:55:19.149409   m   1988   \n",
       "2  0_1277 2022-06-18   s_225667    c_6714  15:44:33.155329   f   1968   \n",
       "3   2_209 2021-06-24    s_52962    c_6941  04:19:29.835891   m   2000   \n",
       "4  0_1509 2023-01-11   s_325227    c_4232  08:22:08.194479   m   1980   \n",
       "\n",
       "   age_client tranche_d'age  price  categ  \n",
       "0          36    36 - 45ans   4.18    0.0  \n",
       "1          34    26 - 35ans  15.99    1.0  \n",
       "2          54    46 - 55ans   7.99    0.0  \n",
       "3          22    15 - 25ans  69.99    2.0  \n",
       "4          42    36 - 45ans   4.99    0.0  "
      ]
     },
     "execution_count": 35,
     "metadata": {},
     "output_type": "execute_result"
    }
   ],
   "source": [
    "#Remplacer les valeurs manquantes de la variable prix par la moyenne des prix.\n",
    "df_final[\"price\"].fillna(moyenne, inplace = True)\n",
    "df_final.head()"
   ]
  },
  {
   "cell_type": "code",
   "execution_count": 36,
   "id": "75425d87-5f33-48bb-8a41-cade4e1904f4",
   "metadata": {},
   "outputs": [
    {
     "name": "stdout",
     "output_type": "stream",
     "text": [
      "<class 'pandas.core.frame.DataFrame'>\n",
      "Int64Index: 679332 entries, 0 to 679331\n",
      "Data columns (total 11 columns):\n",
      " #   Column         Non-Null Count   Dtype         \n",
      "---  ------         --------------   -----         \n",
      " 0   id_prod        679332 non-null  object        \n",
      " 1   date           679332 non-null  datetime64[ns]\n",
      " 2   session_id     679332 non-null  object        \n",
      " 3   client_id      679332 non-null  object        \n",
      " 4   heure          679332 non-null  object        \n",
      " 5   sex            679332 non-null  object        \n",
      " 6   birth          679332 non-null  int64         \n",
      " 7   age_client     679332 non-null  int64         \n",
      " 8   tranche_d'age  676513 non-null  category      \n",
      " 9   price          679332 non-null  float64       \n",
      " 10  categ          679332 non-null  float64       \n",
      "dtypes: category(1), datetime64[ns](1), float64(2), int64(2), object(5)\n",
      "memory usage: 57.7+ MB\n"
     ]
    }
   ],
   "source": [
    "df_final.info()"
   ]
  },
  {
   "cell_type": "code",
   "execution_count": 37,
   "id": "c4a099ff-b56a-4e5c-881d-1aed8c7094b6",
   "metadata": {},
   "outputs": [
    {
     "data": {
      "text/html": [
       "<div>\n",
       "<style scoped>\n",
       "    .dataframe tbody tr th:only-of-type {\n",
       "        vertical-align: middle;\n",
       "    }\n",
       "\n",
       "    .dataframe tbody tr th {\n",
       "        vertical-align: top;\n",
       "    }\n",
       "\n",
       "    .dataframe thead th {\n",
       "        text-align: right;\n",
       "    }\n",
       "</style>\n",
       "<table border=\"1\" class=\"dataframe\">\n",
       "  <thead>\n",
       "    <tr style=\"text-align: right;\">\n",
       "      <th></th>\n",
       "      <th>id_prod</th>\n",
       "      <th>date</th>\n",
       "      <th>session_id</th>\n",
       "      <th>client_id</th>\n",
       "      <th>heure</th>\n",
       "      <th>sex</th>\n",
       "      <th>birth</th>\n",
       "      <th>age_client</th>\n",
       "      <th>tranche_d'age</th>\n",
       "      <th>price</th>\n",
       "      <th>categ</th>\n",
       "    </tr>\n",
       "  </thead>\n",
       "  <tbody>\n",
       "    <tr>\n",
       "      <th>0</th>\n",
       "      <td>0_1518</td>\n",
       "      <td>2022-05-20</td>\n",
       "      <td>s_211425</td>\n",
       "      <td>c_103</td>\n",
       "      <td>13:21:29.043970</td>\n",
       "      <td>f</td>\n",
       "      <td>1986</td>\n",
       "      <td>36</td>\n",
       "      <td>36 - 45ans</td>\n",
       "      <td>4.18</td>\n",
       "      <td>0</td>\n",
       "    </tr>\n",
       "    <tr>\n",
       "      <th>1</th>\n",
       "      <td>1_251</td>\n",
       "      <td>2022-02-02</td>\n",
       "      <td>s_158752</td>\n",
       "      <td>c_8534</td>\n",
       "      <td>07:55:19.149409</td>\n",
       "      <td>m</td>\n",
       "      <td>1988</td>\n",
       "      <td>34</td>\n",
       "      <td>26 - 35ans</td>\n",
       "      <td>15.99</td>\n",
       "      <td>1</td>\n",
       "    </tr>\n",
       "    <tr>\n",
       "      <th>2</th>\n",
       "      <td>0_1277</td>\n",
       "      <td>2022-06-18</td>\n",
       "      <td>s_225667</td>\n",
       "      <td>c_6714</td>\n",
       "      <td>15:44:33.155329</td>\n",
       "      <td>f</td>\n",
       "      <td>1968</td>\n",
       "      <td>54</td>\n",
       "      <td>46 - 55ans</td>\n",
       "      <td>7.99</td>\n",
       "      <td>0</td>\n",
       "    </tr>\n",
       "    <tr>\n",
       "      <th>3</th>\n",
       "      <td>2_209</td>\n",
       "      <td>2021-06-24</td>\n",
       "      <td>s_52962</td>\n",
       "      <td>c_6941</td>\n",
       "      <td>04:19:29.835891</td>\n",
       "      <td>m</td>\n",
       "      <td>2000</td>\n",
       "      <td>22</td>\n",
       "      <td>15 - 25ans</td>\n",
       "      <td>69.99</td>\n",
       "      <td>2</td>\n",
       "    </tr>\n",
       "    <tr>\n",
       "      <th>4</th>\n",
       "      <td>0_1509</td>\n",
       "      <td>2023-01-11</td>\n",
       "      <td>s_325227</td>\n",
       "      <td>c_4232</td>\n",
       "      <td>08:22:08.194479</td>\n",
       "      <td>m</td>\n",
       "      <td>1980</td>\n",
       "      <td>42</td>\n",
       "      <td>36 - 45ans</td>\n",
       "      <td>4.99</td>\n",
       "      <td>0</td>\n",
       "    </tr>\n",
       "  </tbody>\n",
       "</table>\n",
       "</div>"
      ],
      "text/plain": [
       "  id_prod       date session_id client_id            heure sex  birth  \\\n",
       "0  0_1518 2022-05-20   s_211425     c_103  13:21:29.043970   f   1986   \n",
       "1   1_251 2022-02-02   s_158752    c_8534  07:55:19.149409   m   1988   \n",
       "2  0_1277 2022-06-18   s_225667    c_6714  15:44:33.155329   f   1968   \n",
       "3   2_209 2021-06-24    s_52962    c_6941  04:19:29.835891   m   2000   \n",
       "4  0_1509 2023-01-11   s_325227    c_4232  08:22:08.194479   m   1980   \n",
       "\n",
       "   age_client tranche_d'age  price  categ  \n",
       "0          36    36 - 45ans   4.18      0  \n",
       "1          34    26 - 35ans  15.99      1  \n",
       "2          54    46 - 55ans   7.99      0  \n",
       "3          22    15 - 25ans  69.99      2  \n",
       "4          42    36 - 45ans   4.99      0  "
      ]
     },
     "execution_count": 37,
     "metadata": {},
     "output_type": "execute_result"
    }
   ],
   "source": [
    "#Convertir les variables \"birth\" et \"categ\" qui sont de type float en type intiger\n",
    "df_final[\"birth\"]= df_final[\"birth\"].astype(\"int64\")\n",
    "df_final[\"categ\"]= df_final[\"categ\"].astype(\"int64\")\n",
    "df_final[\"age_client\"]= df_final[\"age_client\"].astype(\"int64\")\n",
    "df_final.head()"
   ]
  },
  {
   "cell_type": "markdown",
   "id": "815d9b63-1ab4-46f8-99cd-913d36fdc8d0",
   "metadata": {},
   "source": [
    "<h3 ><a id=\"9\">3. Exporter le fichier base dans le dossier de travail</a></h3> "
   ]
  },
  {
   "cell_type": "code",
   "execution_count": 38,
   "id": "fe772b12-8c72-4dbc-9fa9-572f7175138a",
   "metadata": {},
   "outputs": [],
   "source": [
    " df_final.to_csv(\"df_final.csv\", index = False)"
   ]
  },
  {
   "cell_type": "markdown",
   "id": "00aec499-75d0-4931-8112-b11a825bc8ee",
   "metadata": {},
   "source": [
    "<h2 ><a id=\"1O\">Conclusion</a></h2>\n",
    "\n",
    "Dans cette premiére partie, nous avons procéder à l'analyse et à l'explorartion des differents DataFrames.   \n",
    "Ce qui nous a permis de detecter des incohrences, des anomalies et d'eventuels outliers sur les differents DataFrames.   \n",
    "Nous allons continuer notre analyse dans un nouveau notebook"
   ]
  }
 ],
 "metadata": {
  "kernelspec": {
   "display_name": "Python 3 (ipykernel)",
   "language": "python",
   "name": "python3"
  },
  "language_info": {
   "codemirror_mode": {
    "name": "ipython",
    "version": 3
   },
   "file_extension": ".py",
   "mimetype": "text/x-python",
   "name": "python",
   "nbconvert_exporter": "python",
   "pygments_lexer": "ipython3",
   "version": "3.9.7"
  },
  "toc-autonumbering": false,
  "toc-showcode": false
 },
 "nbformat": 4,
 "nbformat_minor": 5
}
